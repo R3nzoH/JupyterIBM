{
 "cells": [
  {
   "cell_type": "markdown",
   "metadata": {},
   "source": [
    "My Jupyter Notebook on IBM Watson Studio"
   ]
  },
  {
   "cell_type": "markdown",
   "metadata": {},
   "source": [
    "Renzo Antonio Herrera Castro    "
   ]
  },
  {
   "cell_type": "markdown",
   "metadata": {},
   "source": [
    "Estoy interesado en la Data Science porque me encanta como los datos nos pueden decir que esta sucediendo en la empresa o como esta la calidad de los datos. Podemos abordar muchas cosas como el un modelo predictivo y como podemos prevenir alguna caida de un producto."
   ]
  },
  {
   "cell_type": "code",
   "execution_count": null,
   "metadata": {},
   "outputs": [],
   "source": [
    "# Cálculo de la serie de Fibonacci\n",
    "def fibonacci(n):\n",
    "    fib = [0, 1]\n",
    "    while len(fib) < n:\n",
    "        fib.append(fib[-1] + fib[-2])\n",
    "    return fib\n",
    "\n",
    "n_terminos = 11  # Cantidad de términos de la serie de Fibonacci que deseas calcular\n",
    "serie_fibonacci = fibonacci(n_terminos)\n",
    "serie_fibonacci"
   ]
  },
  {
   "cell_type": "markdown",
   "metadata": {},
   "source": [
    "# Elementos de Markdown en esta celda\n",
    "\n",
    "## Regla Horizontal\n",
    "---\n",
    "A continuación, hay una regla horizontal para separar secciones.\n",
    "\n",
    "## Lista de Viñetas\n",
    "- Elemento 1\n",
    "- Elemento 2\n",
    "- Elemento 3\n",
    "\n",
    "## Lista Numerada\n",
    "1. Primer elemento\n",
    "2. Segundo elemento\n",
    "3. Tercer elemento\n",
    "\n",
    "## Tabla\n",
    "| Nombre  | Edad |\n",
    "|---------|------|\n",
    "| Juan    | 30   |\n",
    "| María   | 25   |\n",
    "| Pedro   | 35   |\n",
    "\n",
    "## Hipervínculo\n",
    "[Enlace a Google](https://www.google.com)\n",
    "\n",
    "## Imagen\n",
    "![Logo de Jupyter](https://jupyter.org/assets/main-logo.svg)\n",
    "\n",
    "## Resaltado de Código/Sintaxis\n",
    "```python\n",
    "def saludar(nombre):\n",
    "    print(f\"Hola, {nombre}!\")"
   ]
  },
  {
   "cell_type": "code",
   "execution_count": null,
   "metadata": {},
   "outputs": [
    {
     "ename": "",
     "evalue": "",
     "output_type": "error",
     "traceback": [
      "\u001b[1;31mFailed to start the Kernel. \n",
      "\u001b[1;31mUnable to start Kernel 'Python' due to a timeout waiting for the ports to get used. \n",
      "\u001b[1;31mView Jupyter <a href='command:jupyter.viewOutput'>log</a> for further details."
     ]
    }
   ],
   "source": []
  }
 ],
 "metadata": {
  "kernelspec": {
   "display_name": "Python 3",
   "language": "python",
   "name": "python3"
  },
  "language_info": {
   "name": "python",
   "version": "3.10.4"
  }
 },
 "nbformat": 4,
 "nbformat_minor": 2
}
